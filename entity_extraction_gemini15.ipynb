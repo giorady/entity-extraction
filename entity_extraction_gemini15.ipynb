{
 "cells": [
  {
   "cell_type": "code",
   "execution_count": 1,
   "metadata": {},
   "outputs": [],
   "source": [
    "import os \n",
    "import json\n",
    "import vertexai\n",
    "import base64\n",
    "from vertexai.generative_models import GenerativeModel, Part\n",
    "import vertexai.preview.generative_models as generative_models\n",
    "from google.cloud import bigquery\n",
    "from google.oauth2 import service_account"
   ]
  },
  {
   "cell_type": "code",
   "execution_count": 2,
   "metadata": {},
   "outputs": [],
   "source": [
    "os.environ['GOOGLE_APPLICATION_CREDENTIALS'] = \"XXX\"\n",
    "# credentials = service_account.Credentials.from_service_account_file('/Users/giorady/Documents/Work/Datalabs/PythonDev/klg-workshop/key_kawan_lama.json')"
   ]
  },
  {
   "cell_type": "code",
   "execution_count": 3,
   "metadata": {},
   "outputs": [],
   "source": [
    "vertexai.init(project=\"datalabs-int-bigdata\", location=\"asia-southeast1\")\n",
    "# vertexai.init(project=\"gcp-kl-fin-genai-poc\", location=\"asia-southeast1\", credentials=credentials)\n",
    "model = GenerativeModel(\"gemini-1.5-pro-preview-0409\")\n",
    "\n",
    "generation_config = {\n",
    "    \"max_output_tokens\": 8192,\n",
    "    \"temperature\": 0,\n",
    "    \"top_p\": 0.95,\n",
    "    \"top_k\": 32,\n",
    "}\n",
    "\n",
    "safety_settings = {\n",
    "    generative_models.HarmCategory.HARM_CATEGORY_HATE_SPEECH: generative_models.HarmBlockThreshold.BLOCK_NONE,\n",
    "    generative_models.HarmCategory.HARM_CATEGORY_DANGEROUS_CONTENT: generative_models.HarmBlockThreshold.BLOCK_NONE,\n",
    "    generative_models.HarmCategory.HARM_CATEGORY_SEXUALLY_EXPLICIT: generative_models.HarmBlockThreshold.BLOCK_NONE,\n",
    "    generative_models.HarmCategory.HARM_CATEGORY_HARASSMENT: generative_models.HarmBlockThreshold.BLOCK_NONE,\n",
    "}"
   ]
  },
  {
   "cell_type": "code",
   "execution_count": 4,
   "metadata": {},
   "outputs": [],
   "source": [
    "# File from local machine \n",
    "# with open(\"/Users/giorady/Documents/Work/Datalabs/PythonDev/klg-workshop/pdf_dummy_klg.pdf\", \"rb\") as pdf_file:\n",
    "#     encoded_string = base64.b64encode(pdf_file.read())\n",
    "\n",
    "with open(\"XXX\", \"rb\") as pdf_file:\n",
    "    encoded_string = base64.b64encode(pdf_file.read())\n",
    "\n",
    "# File from google cloud storage \n",
    "# uri = \"gs://kawan_lama_workshop_gio/Order Form Example.pdf\""
   ]
  },
  {
   "cell_type": "code",
   "execution_count": 5,
   "metadata": {},
   "outputs": [],
   "source": [
    "document = Part.from_data(\n",
    "mime_type=\"application/pdf\",\n",
    "data = base64.b64decode(encoded_string)\n",
    ")\n",
    "\n",
    "# document = Part.from_uri(\n",
    "# mime_type=\"application/pdf\",\n",
    "# uri=uri\n",
    "# )"
   ]
  },
  {
   "cell_type": "code",
   "execution_count": 6,
   "metadata": {},
   "outputs": [],
   "source": [
    "prompt = \"\"\"Extract Reseller Legal Name, Reseller Name, Reseller Address, and the duration term of the products ordered in Year format if its longer or equal to 12 months, from the file and give the output in a format like this without any \"json\" string indicator in the beginning of your response. Just follow the format:\n",
    "\"reseller_legal_name\": \"XXXX\",\n",
    "\"reseller_name\": \"XXXX\",\n",
    "\"reseller_address\": \"XXXX\",\n",
    "\"term\": \"XX YEAR\",\n",
    "\"\"\"\n",
    "\n",
    "# prompt = \"\"\"Extract \"KELURAHAN\", \"KECAMATAN\", \"KABUPATEN/KOTA\", \"PROVINSI\" and each value from the table \"DATA RINCIAN PEROLEHAN SUARA PASANGAN CALON PRESIDEN DAN WAKIL PRESIDEN\" from the document provided in a key-value json format like below:\n",
    "#   {\n",
    "#    \"KELURAHAN\": \"CILANDAK BARAT\"\n",
    "#    \"KECAMATAN\": \"CILANDAK\",\n",
    "#    \"KABUPATEN_KOTA\": \"KOTA ADM. JAKARTA SELATAN\",\n",
    "#    \"PROVINSI\": \"DKI JAKARTA\",\n",
    "#    \"DATA_RINCIAN_PEROIEHAN_SUARA_PASANGAN_CALON_PRESIDEN_DAN_WAKIL_PRESIDEN\": {\n",
    "#     \"NOMOR_DAN_NAMA_PASANGAN_CALON\": {\n",
    "#             \"ANIES_RASYID_BASWEDAN_MUHAIMIN_ISKANDAR\": {\n",
    "#             \"TPS_001\": XX,\n",
    "#             \"TPS_002\": XX,\n",
    "#             },\n",
    "#             \"PRABOWO_SUBlANTO_GIBRAN_RAKABUMING_RAKA\": {\n",
    "#             \"TPS_001\": XX,\n",
    "#             \"TPS_002\": XX,\n",
    "#             },\n",
    "#             \"GANJAR_PRANOWO_MAHFUD_MD\": {\n",
    "#             \"TPS_001\": XX,\n",
    "#             \"TPS_002\": XX,\n",
    "#             }\n",
    "#         }\n",
    "#     }\n",
    "#   }\n",
    "\n",
    "# \"\"\"\n",
    "\n",
    "# prompt = \"\"\"Extract \"JUMLAH SELURUH SUARA SAH\", \"JUMLAH SUARA TIDAK SAH\", \"JUMLAH SELURUH SUARA SAH DAN SUARA TIDAK SAH\", from the document provided in a key-value json format like below:\n",
    "#   {\n",
    "#    \"JUMLAH_SELURUH_SUARA_SAH\": {\n",
    "#    \"TPS_1\":\"XX\",\n",
    "#    \"TPS_2\":\"XX\",\n",
    "#    \"TPS_3\":\"XX\",\n",
    "#    }\n",
    "#    \"JUMLAH_SUARA_TIDAK_SAH\": {\n",
    "#    \"TPS_1\":\"XX\",\n",
    "#    \"TPS_2\":\"XX\",\n",
    "#    \"TPS_3\":\"XX\",\n",
    "#    }\n",
    "#    \"JUMLAH_SELURUH_SUARA_SAH_DAN_TIDAK_SAH\": {\n",
    "#    \"TPS_1\":\"XX\",\n",
    "#    \"TPS_2\":\"XX\",\n",
    "#    \"TPS_3\":\"XX\",\n",
    "#    }\n",
    "#   }\n",
    "# \"\"\"\n",
    "\n",
    "# prompt = \"\"\"Extract Reseller Street Address, Reseller Name, and the duration term of the products ordered from the file and give the output in a format like this:\n",
    "# {\n",
    "# \"street_address\": \"XXXX\",\n",
    "# \"name\": \"XXXX\",\n",
    "# \"term\": \"XXXX\"\n",
    "# }\n",
    "# \"\"\""
   ]
  },
  {
   "cell_type": "code",
   "execution_count": 7,
   "metadata": {},
   "outputs": [],
   "source": [
    "responses = model.generate_content(\n",
    "    [document,prompt],\n",
    "    generation_config=generation_config,\n",
    "    safety_settings=safety_settings,\n",
    "    stream=False,\n",
    ")"
   ]
  },
  {
   "cell_type": "markdown",
   "metadata": {},
   "source": []
  },
  {
   "cell_type": "code",
   "execution_count": 8,
   "metadata": {},
   "outputs": [
    {
     "name": "stdout",
     "output_type": "stream",
     "text": [
      "{\n",
      "\"reseller_legal_name\": \"PT Data Labs Analytics\",\n",
      "\"reseller_name\": \"Mendi Susanto\",\n",
      "\"reseller_address\": \"Wisma Nugra Santana, 2nd Fl. Jl. Jend. Sudirman Kav 7-8 Jakarta\\n10220 Indonesia\",\n",
      "\"term\": \"1 YEAR\"\n",
      "}\n"
     ]
    }
   ],
   "source": [
    "result = responses.text\n",
    "print(result)"
   ]
  },
  {
   "cell_type": "code",
   "execution_count": null,
   "metadata": {},
   "outputs": [
    {
     "name": "stdout",
     "output_type": "stream",
     "text": [
      "{'street_address': 'Wisma Nugra Santana, 2nd Fl. Jl. Jend. Sudirman Kav 7-8 Jakarta\\n10220 Indonesia', 'name': 'Mendi Susanto', 'term': '12 Months'}\n"
     ]
    }
   ],
   "source": [
    "result_json = json.loads(result)\n",
    "print(result_json)"
   ]
  },
  {
   "cell_type": "code",
   "execution_count": null,
   "metadata": {},
   "outputs": [
    {
     "data": {
      "text/plain": [
       "{'street_address': 'Wisma Nugra Santana, 2nd Fl. Jl. Jend. Sudirman Kav 7-8 Jakarta\\n10220 Indonesia',\n",
       " 'name': 'Mendi Susanto',\n",
       " 'term': '12 Months'}"
      ]
     },
     "execution_count": 24,
     "metadata": {},
     "output_type": "execute_result"
    }
   ],
   "source": [
    "result_json"
   ]
  },
  {
   "cell_type": "code",
   "execution_count": null,
   "metadata": {},
   "outputs": [
    {
     "name": "stdout",
     "output_type": "stream",
     "text": [
      "[{'street_address': 'Wisma Nugra Santana, 2nd Fl. Jl. Jend. Sudirman Kav 7-8 Jakarta\\n10220 Indonesia', 'name': 'Mendi Susanto', 'term': '12 Months'}]\n"
     ]
    }
   ],
   "source": [
    "json_rows=[result_json]\n",
    "print(json_rows)"
   ]
  },
  {
   "cell_type": "code",
   "execution_count": null,
   "metadata": {},
   "outputs": [
    {
     "data": {
      "text/plain": [
       "[{'street_address': 'Wisma Nugra Santana, 2nd Fl. Jl. Jend. Sudirman Kav 7-8 Jakarta\\n10220 Indonesia',\n",
       "  'name': 'Mendi Susanto',\n",
       "  'term': '12 Months'}]"
      ]
     },
     "execution_count": 26,
     "metadata": {},
     "output_type": "execute_result"
    }
   ],
   "source": [
    "json_rows"
   ]
  },
  {
   "cell_type": "code",
   "execution_count": null,
   "metadata": {},
   "outputs": [
    {
     "data": {
      "text/plain": [
       "LoadJob<project=datalabs-int-bigdata, location=asia-southeast2, id=15b8c619-c746-41fa-ad0d-b546fb01dd9d>"
      ]
     },
     "execution_count": 27,
     "metadata": {},
     "output_type": "execute_result"
    }
   ],
   "source": [
    "table_id = \"gcp-kl-fin-genai-poc.db_TenantLW.resultTable\"\n",
    "client = bigquery.Client()\n",
    "job = client.load_table_from_json(json_rows, table_id)\n",
    "job.result()"
   ]
  },
  {
   "cell_type": "code",
   "execution_count": null,
   "metadata": {},
   "outputs": [],
   "source": []
  }
 ],
 "metadata": {
  "kernelspec": {
   "display_name": "bni-dma",
   "language": "python",
   "name": "python3"
  },
  "language_info": {
   "codemirror_mode": {
    "name": "ipython",
    "version": 3
   },
   "file_extension": ".py",
   "mimetype": "text/x-python",
   "name": "python",
   "nbconvert_exporter": "python",
   "pygments_lexer": "ipython3",
   "version": "3.11.0"
  }
 },
 "nbformat": 4,
 "nbformat_minor": 2
}
